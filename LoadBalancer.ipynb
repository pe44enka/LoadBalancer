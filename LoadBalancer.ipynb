{
  "nbformat": 4,
  "nbformat_minor": 0,
  "metadata": {
    "colab": {
      "provenance": [],
      "authorship_tag": "ABX9TyNJXrrLmnnK2WHSTH0RKx1p",
      "include_colab_link": true
    },
    "kernelspec": {
      "name": "python3",
      "display_name": "Python 3"
    },
    "language_info": {
      "name": "python"
    }
  },
  "cells": [
    {
      "cell_type": "markdown",
      "metadata": {
        "id": "view-in-github",
        "colab_type": "text"
      },
      "source": [
        "<a href=\"https://colab.research.google.com/github/pe44enka/LoadBalancer/blob/main/LoadBalancer.ipynb\" target=\"_parent\"><img src=\"https://colab.research.google.com/assets/colab-badge.svg\" alt=\"Open In Colab\"/></a>"
      ]
    },
    {
      "cell_type": "markdown",
      "source": [
        "#**Load Balancer**"
      ],
      "metadata": {
        "id": "wSWGC48aje1S"
      }
    },
    {
      "cell_type": "markdown",
      "source": [
        "![](https://phoenixnap.com/kb/wp-content/uploads/2021/06/how-does-load-balancing-work.png)"
      ],
      "metadata": {
        "id": "gcdpMewNouRT"
      }
    },
    {
      "cell_type": "markdown",
      "source": [
        "\n",
        "### Objectives\n",
        "Imagine you have a cloud and you have to manage it such a way that load of each server wouldn't exceed 50% and add more servers in other case. To automate this process you need to create Load Balancer.\n",
        "\n",
        "---\n",
        "\n",
        "### Goal of the project\n",
        "To create a Load Balancer that ensures that there are enough servers to serve incoming connections.\n",
        "\n",
        "### Technique\n",
        "For this project we will use fundamental concepts of Object-Oriented Programming like classes and composition.\n",
        "\n",
        "### Library\n",
        "* **```random```**: used to create random amount of load to the server\n",
        "* **```numpy.median```**: used to find median of total loads to each server\n",
        "\n",
        "---"
      ],
      "metadata": {
        "id": "RtVsuXySjxdx"
      }
    },
    {
      "cell_type": "markdown",
      "source": [
        "# Libraries"
      ],
      "metadata": {
        "id": "GJKtyW6KsJuf"
      }
    },
    {
      "cell_type": "code",
      "source": [
        "import random\n",
        "from numpy import median"
      ],
      "metadata": {
        "id": "JGSfcHcAsLh1"
      },
      "execution_count": 1,
      "outputs": []
    },
    {
      "cell_type": "markdown",
      "source": [
        "# Server Class"
      ],
      "metadata": {
        "id": "AJe2NNpprUzc"
      }
    },
    {
      "cell_type": "markdown",
      "source": [
        "To represent the servers that are taking care of the connections, we will use a *Server class*: \n",
        "* each connection is represented by an id, e.g. ip address of the computer connecting to the server\n",
        "* for our simulation, each connection creates a random amount of load in the server, between 1% and 10% of server capacity\n",
        "* also create methods associated with this class:\n",
        "  * ```add_connection```: add a new connection to the server \n",
        "  * ```close_connection```: close connection on the server\n",
        "  * ```load```: calculate the current load from all connections to the server\n",
        "  * ```__str__```: define how an instance of Server class will be printed\n",
        "\n",
        "---"
      ],
      "metadata": {
        "id": "vSuvCW_praQR"
      }
    },
    {
      "cell_type": "code",
      "execution_count": 2,
      "metadata": {
        "id": "qfQZfCeQgO5K"
      },
      "outputs": [],
      "source": [
        "class Server:\n",
        "    def __init__(self):\n",
        "        \"\"\"Creates a new server instance, with no active connections.\"\"\"\n",
        "        self.connections = {}\n",
        "\n",
        "    def add_connection(self, connection_id):\n",
        "        \"\"\"Adds a new connection to this server.\"\"\"\n",
        "        connection_load = random.random()*9+1\n",
        "        # Add the connection to the dictionary with the calculated load\n",
        "        self.connections[connection_id] = connection_load\n",
        "\n",
        "    def close_connection(self, connection_id):\n",
        "        \"\"\"Closes a connection on this server.\"\"\"\n",
        "        # Remove the connection from the dictionary\n",
        "        del(self.connections[connection_id])\n",
        "\n",
        "    def load(self):\n",
        "        \"\"\"Calculates the current load for all connections.\"\"\"\n",
        "        total = 0\n",
        "        # Add up the load for each of the connections\n",
        "        for load in self.connections.values():\n",
        "            total += load\n",
        "        return total\n",
        "\n",
        "    def __str__(self):\n",
        "        \"\"\"Returns a string with the current load of the server\"\"\"\n",
        "        return \"{:.2f}%\".format(self.load())"
      ]
    },
    {
      "cell_type": "markdown",
      "source": [
        "---\n",
        "\n",
        "Let's create a Server class instance and check how it works.\n",
        "\n",
        "---"
      ],
      "metadata": {
        "id": "7kedLQVouRSZ"
      }
    },
    {
      "cell_type": "code",
      "source": [
        "server = Server()\n",
        "server.add_connection(\"192.168.1.1\")\n",
        "\n",
        "print(server)"
      ],
      "metadata": {
        "colab": {
          "base_uri": "https://localhost:8080/"
        },
        "id": "huTyKOVduJeN",
        "outputId": "5961db17-f86f-490d-cf76-241ccfc49de3"
      },
      "execution_count": 3,
      "outputs": [
        {
          "output_type": "stream",
          "name": "stdout",
          "text": [
            "9.59%\n"
          ]
        }
      ]
    },
    {
      "cell_type": "markdown",
      "source": [
        "---\n",
        "\n",
        "Now let's try to remove connection.\n",
        "\n",
        "---"
      ],
      "metadata": {
        "id": "D8qslQfUvCrI"
      }
    },
    {
      "cell_type": "code",
      "source": [
        "server.close_connection(\"192.168.1.1\")\n",
        "\n",
        "print(server)"
      ],
      "metadata": {
        "colab": {
          "base_uri": "https://localhost:8080/"
        },
        "id": "5qY4CnZJujcb",
        "outputId": "bf07219a-d232-49d8-eed4-60640878166d"
      },
      "execution_count": 4,
      "outputs": [
        {
          "output_type": "stream",
          "name": "stdout",
          "text": [
            "0.00%\n"
          ]
        }
      ]
    },
    {
      "cell_type": "markdown",
      "source": [
        "\n",
        "\n",
        "---\n",
        "\n",
        "As long as we had just one connection to particular server the load dropped to zero.\n",
        "\n",
        "---"
      ],
      "metadata": {
        "id": "GlpWIUv_vbZh"
      }
    },
    {
      "cell_type": "markdown",
      "source": [
        "# LoadBalancer Class"
      ],
      "metadata": {
        "id": "liZggFLFwTWG"
      }
    },
    {
      "cell_type": "markdown",
      "source": [
        "Now let's create *LoadBalancer* class that takes *Server* class instances as attributes. This type of relationship is known as *Composition*.\n",
        "\n",
        "This class:\n",
        "* will start with only one server available\n",
        "* when a connection is added -> it will randomly select a server to serve that connection -> pass on the connection to the server\n",
        "* also needs to keep track of the ongoing connections to be able to close them\n",
        "* includes following methods:\n",
        "  * ```add_connection```: add connection to randomly chosen server\n",
        "  * ```close_connection```: close connection with particular id\n",
        "  * ```avg_load```: calculate average load in the system (of all servers together)\n",
        "  * ```__str__```: define how an instance of LoadBouncer class will be printed\n",
        "\n",
        "---\n"
      ],
      "metadata": {
        "id": "xEJbrw9zM20E"
      }
    },
    {
      "cell_type": "code",
      "source": [
        "class LoadBalancer:\n",
        "    def __init__(self):\n",
        "        \"\"\"Initialize the load balancing system with one server\"\"\"\n",
        "        self.connections = {}\n",
        "        self.servers = [Server()]\n",
        "\n",
        "    def add_connection(self, connection_id):\n",
        "        \"\"\"Randomly selects a server and adds a connection to it.\"\"\"\n",
        "        server = random.choice(self.servers)\n",
        "        # Add the connection to the dictionary with the selected server\n",
        "        self.connections[connection_id] = server\n",
        "        # Add the connection to the server\n",
        "        server.add_connection(connection_id)\n",
        "\n",
        "    def close_connection(self, connection_id):\n",
        "        \"\"\"Closes the connection on the the server corresponding to connection_id.\"\"\"\n",
        "        # Find out the right server\n",
        "        server = self.connections[connection_id]\n",
        "        # Close the connection on the server\n",
        "        server.close_connection(connection_id)\n",
        "        # Remove the connection from the load balancer\n",
        "        del(self.connections[connection_id])\n",
        "\n",
        "    def avg_load(self):\n",
        "        \"\"\"Calculates the average load of all servers\"\"\"\n",
        "        # Sum the load of each server and divide by the amount of servers\n",
        "        load_sum = 0\n",
        "        for server in self.servers:\n",
        "            load_sum += server.load() \n",
        "        load_avg = load_sum/len(self.servers)\n",
        "        return load_avg\n",
        "\n",
        "    def __str__(self):\n",
        "        \"\"\"Returns a string with the load for each server.\"\"\"\n",
        "        loads = [str(server) for server in self.servers]\n",
        "        load_avg = self.avg_load()\n",
        "        return \"Average load of the servers is {:.2f}%\\nLoads of each server: [{}]\".format(load_avg, (\",\".join(loads)))"
      ],
      "metadata": {
        "id": "7UubaPL9vXm3"
      },
      "execution_count": 5,
      "outputs": []
    },
    {
      "cell_type": "markdown",
      "source": [
        "---\n",
        "\n",
        "Let's create a LoadBalancer class instance and check how it works.\n",
        "\n",
        "---"
      ],
      "metadata": {
        "id": "MMdKPay1Te9x"
      }
    },
    {
      "cell_type": "code",
      "source": [
        "loadbalancer = LoadBalancer()\n",
        "print(loadbalancer)"
      ],
      "metadata": {
        "colab": {
          "base_uri": "https://localhost:8080/"
        },
        "id": "GOx79feFSV10",
        "outputId": "b8223fb6-2938-4a36-8fb3-37115655128d"
      },
      "execution_count": 6,
      "outputs": [
        {
          "output_type": "stream",
          "name": "stdout",
          "text": [
            "Average load of the servers is 0.00%\n",
            "Loads of each server: [0.00%]\n"
          ]
        }
      ]
    },
    {
      "cell_type": "markdown",
      "source": [
        "---\n",
        "\n",
        "As long as there is no connection added, load of the server is 0%. Let's add connection to see how load will change.\n",
        "\n",
        "---"
      ],
      "metadata": {
        "id": "-tNhqu4YTnLo"
      }
    },
    {
      "cell_type": "code",
      "source": [
        "loadbalancer.add_connection(\"192.168.1.1\") #add connection to the server\n",
        "print(loadbalancer)"
      ],
      "metadata": {
        "colab": {
          "base_uri": "https://localhost:8080/"
        },
        "id": "2dGuWMZmT529",
        "outputId": "ee56ea77-d929-4d09-f41e-53ad420d88f6"
      },
      "execution_count": 7,
      "outputs": [
        {
          "output_type": "stream",
          "name": "stdout",
          "text": [
            "Average load of the servers is 5.52%\n",
            "Loads of each server: [5.52%]\n"
          ]
        }
      ]
    },
    {
      "cell_type": "markdown",
      "source": [
        "---\n",
        "\n",
        "Now when we have a load to the server, let's add another server to the system to see how load will change in this case.\n",
        "\n",
        "---"
      ],
      "metadata": {
        "id": "2pfILx_rUKWl"
      }
    },
    {
      "cell_type": "code",
      "source": [
        "loadbalancer.servers.append(Server()) # add 1 more server to system\n",
        "print(loadbalancer)"
      ],
      "metadata": {
        "colab": {
          "base_uri": "https://localhost:8080/"
        },
        "id": "yZgBrm3zUcaD",
        "outputId": "d64b0041-01a6-493e-9ce5-7d9bf23cb28e"
      },
      "execution_count": 8,
      "outputs": [
        {
          "output_type": "stream",
          "name": "stdout",
          "text": [
            "Average load of the servers is 2.76%\n",
            "Loads of each server: [5.52%,0.00%]\n"
          ]
        }
      ]
    },
    {
      "cell_type": "markdown",
      "source": [
        "\n",
        "\n",
        "---\n",
        "\n",
        "Average load decreases twice when we added another server. Let's automete this process by adding a new method to the class:\n",
        "```ensure_availability```: check if the average load exceeds 50% and add as many servers as needed to keep it under 50%.\n",
        "\n",
        "---"
      ],
      "metadata": {
        "id": "ar34H81V3c-U"
      }
    },
    {
      "cell_type": "code",
      "source": [
        "class LoadBalancer:\n",
        "    def __init__(self):\n",
        "        \"\"\"Initialize the load balancing system with one server\"\"\"\n",
        "        self.connections = {}\n",
        "        self.servers = [Server()]\n",
        "\n",
        "    def add_connection(self, connection_id):\n",
        "        \"\"\"Randomly selects a server and adds a connection to it.\"\"\"\n",
        "        server = random.choice(self.servers)\n",
        "        # Add the connection to the dictionary with the selected server\n",
        "        self.connections[connection_id] = server\n",
        "        # Add the connection to the server\n",
        "        server.add_connection(connection_id)\n",
        "\n",
        "    def close_connection(self, connection_id):\n",
        "        \"\"\"Closes the connection on the the server corresponding to connection_id.\"\"\"\n",
        "        # Find out the right server\n",
        "        server = self.connections[connection_id]\n",
        "        # Close the connection on the server\n",
        "        server.close_connection(connection_id)\n",
        "        # Remove the connection from the load balancer\n",
        "        del(self.connections[connection_id])\n",
        "\n",
        "    def avg_load(self):\n",
        "        \"\"\"Calculates the average load of all servers\"\"\"\n",
        "        # Sum the load of each server and divide by the amount of servers\n",
        "        load_sum = 0\n",
        "        for server in self.servers:\n",
        "            load_sum += server.load() \n",
        "        load_avg = load_sum/len(self.servers)\n",
        "        return load_avg\n",
        "\n",
        "    def ensure_availability(self):\n",
        "        \"\"\"If the average load is higher than 50, spin up a new server\"\"\"\n",
        "        while self.avg_load()>50:\n",
        "            self.servers.append(Server())\n",
        "\n",
        "    def __str__(self):\n",
        "        \"\"\"Returns a string with the load for each server.\"\"\"\n",
        "        loads = [str(round(server.load(),2))+'%' for server in self.servers]\n",
        "        load_avg = self.avg_load()\n",
        "        return \"Average load of the servers is {:.2f}%\\nLoads of each server: [{}]\".format(load_avg, (\",\".join(loads)))"
      ],
      "metadata": {
        "id": "NIbwYlHu332n"
      },
      "execution_count": 9,
      "outputs": []
    },
    {
      "cell_type": "code",
      "source": [
        "loadbalancer = LoadBalancer()"
      ],
      "metadata": {
        "id": "Px5pKJqU1QKU"
      },
      "execution_count": 10,
      "outputs": []
    },
    {
      "cell_type": "code",
      "source": [
        "for connection in range(20):\n",
        "    loadbalancer.add_connection(connection)\n",
        "loadbalancer.ensure_availability()\n",
        "print(loadbalancer)"
      ],
      "metadata": {
        "colab": {
          "base_uri": "https://localhost:8080/"
        },
        "id": "ykzdiR_A4Jz9",
        "outputId": "23a6864f-ca1c-4625-ba90-7940a3a34366"
      },
      "execution_count": 11,
      "outputs": [
        {
          "output_type": "stream",
          "name": "stdout",
          "text": [
            "Average load of the servers is 47.86%\n",
            "Loads of each server: [95.72%,0%]\n"
          ]
        }
      ]
    },
    {
      "cell_type": "markdown",
      "source": [
        "\n",
        "\n",
        "---\n",
        "\n",
        "As we can see adding new servers to the system helps with decreasing the average load, but it doesn't keep load of each server under 50%. To see it more clearly lets add ```median_load``` method: show *median* value of server loads.\n",
        "\n",
        "---\n",
        "\n"
      ],
      "metadata": {
        "id": "A39dRUl2WMpq"
      }
    },
    {
      "cell_type": "code",
      "source": [
        "class LoadBalancer:\n",
        "    def __init__(self):\n",
        "        \"\"\"Initialize the load balancing system with one server\"\"\"\n",
        "        self.connections = {}\n",
        "        self.servers = [Server()]\n",
        "\n",
        "    def add_connection(self, connection_id):\n",
        "        \"\"\"Randomly selects a server and adds a connection to it.\"\"\"\n",
        "        server = random.choice(self.servers)\n",
        "        # Add the connection to the dictionary with the selected server\n",
        "        self.connections[connection_id] = server\n",
        "        # Add the connection to the server\n",
        "        server.add_connection(connection_id)\n",
        "\n",
        "    def close_connection(self, connection_id):\n",
        "        \"\"\"Closes the connection on the the server corresponding to connection_id.\"\"\"\n",
        "        # Find out the right server\n",
        "        server = self.connections[connection_id]\n",
        "        # Close the connection on the server\n",
        "        server.close_connection(connection_id)\n",
        "        # Remove the connection from the load balancer\n",
        "        del(self.connections[connection_id])\n",
        "\n",
        "    def avg_load(self):\n",
        "        \"\"\"Calculates the average load of all servers\"\"\"\n",
        "        # Sum the load of each server and divide by the amount of servers\n",
        "        load_sum = 0\n",
        "        for server in self.servers:\n",
        "            load_sum += server.load() \n",
        "        load_avg = load_sum/len(self.servers)\n",
        "        return load_avg\n",
        "    \n",
        "    def median_load(self):\n",
        "        \"\"\"Calculates the median load of all servers\"\"\"\n",
        "        # create list of server loads\n",
        "        load_list = [server.load() for server in self.servers]\n",
        "        # find median of the server loads list\n",
        "        load_med = median(load_list)\n",
        "        return load_med\n",
        "    \n",
        "    def ensure_availability(self):\n",
        "        \"\"\"If the average load is higher than 50, spin up a new server\"\"\"\n",
        "        while self.avg_load()>50:\n",
        "            self.servers.append(Server())\n",
        "\n",
        "    def __str__(self):\n",
        "        \"\"\"Returns a string with the load for each server.\"\"\"\n",
        "        loads = [str(round(server.load(),2))+'%' for server in self.servers]\n",
        "        load_avg = self.avg_load()\n",
        "        load_med = self.median_load()\n",
        "        return \"Average load of the servers is {:.2f}%\\nMedian load of servers: {:.2f}%\\nLoads of each server: [{}]\".format(load_avg, load_med, (\",\".join(loads)))"
      ],
      "metadata": {
        "id": "daeDignwWVoR"
      },
      "execution_count": 12,
      "outputs": []
    },
    {
      "cell_type": "code",
      "source": [
        "loadbalancer= LoadBalancer()"
      ],
      "metadata": {
        "id": "yDhagnIpXaha"
      },
      "execution_count": 13,
      "outputs": []
    },
    {
      "cell_type": "code",
      "source": [
        "for connection in range(50):\n",
        "    loadbalancer.add_connection(connection)\n",
        "loadbalancer.ensure_availability()\n",
        "print('{} servers used with {:.2f}% average load'.format(len(loadbalancer.servers),loadbalancer.avg_load()))"
      ],
      "metadata": {
        "colab": {
          "base_uri": "https://localhost:8080/"
        },
        "id": "UsrWREvoR71L",
        "outputId": "0d5d4ca9-0567-4ece-fd5b-eb6fe05df865"
      },
      "execution_count": 14,
      "outputs": [
        {
          "output_type": "stream",
          "name": "stdout",
          "text": [
            "6 servers used with 44.67% average load\n"
          ]
        }
      ]
    },
    {
      "cell_type": "code",
      "source": [
        "print(loadbalancer)"
      ],
      "metadata": {
        "colab": {
          "base_uri": "https://localhost:8080/"
        },
        "id": "hCGA-9HmWlwx",
        "outputId": "210c19ce-0030-4551-a3b1-aff1d4c047f0"
      },
      "execution_count": 15,
      "outputs": [
        {
          "output_type": "stream",
          "name": "stdout",
          "text": [
            "Average load of the servers is 44.67%\n",
            "Median load of servers: 0.00%\n",
            "Loads of each server: [268.01%,0%,0%,0%,0%,0%]\n"
          ]
        }
      ]
    },
    {
      "cell_type": "markdown",
      "source": [
        "\n",
        "\n",
        "---\n",
        "\n",
        "Median clearly shows the bias in load distribution. To avoid this we will disclaim the rule of random selection of the server when new connection appears. Instead, we will check if particular server is loaded enough (40% or more) or not:\n",
        "* incase the load of the server is less than 40% -> it can server at least one more connection (which load is randomly choosen from 1% to 10%)\n",
        "* in case the load of the server more than 40% -> it can't server any more connections\n",
        "* in case there is no more servers available for loading (all servers have loads more than 40%) -> we add a new server to the system and add load from a new connection to it\n",
        "\n",
        "In this case when we check availability of servers at the moment of adding  connections, we don't need ```ensure_availability``` method anymore.\n",
        "\n",
        "---\n",
        "\n"
      ],
      "metadata": {
        "id": "ETGJTcr_5xwo"
      }
    },
    {
      "cell_type": "code",
      "source": [
        "class LoadBalancer:\n",
        "    def __init__(self):\n",
        "        \"\"\"Initialize the load balancing system with one server\"\"\"\n",
        "        self.connections = {}\n",
        "        self.servers = [Server()]\n",
        "\n",
        "    def add_connection(self, connection_id):\n",
        "        \"\"\"Selects a server based on its availability and adds a connection to it.\"\"\"\n",
        "        server = '' \n",
        "        #create a list of each server loads\n",
        "        server_load = [server.load() for server in self.servers]\n",
        "        #check if load on particular server < 40% and choose this server in case it is\n",
        "        for load in server_load:\n",
        "          if load <= 40: \n",
        "            server = self.servers[server_load.index(load)]\n",
        "        #add a new server to the system in case there is no available servers\n",
        "        if not server:\n",
        "          self.servers.append(Server())\n",
        "          server = self.servers[-1] \n",
        "        # Add the connection to the dictionary with the selected server\n",
        "        self.connections[connection_id] = server\n",
        "        # Add the connection to the server\n",
        "        server.add_connection(connection_id)\n",
        "\n",
        "    def close_connection(self, connection_id):\n",
        "        \"\"\"Closes the connection on the the server corresponding to connection_id.\"\"\"\n",
        "        # Find out the right server\n",
        "        server = self.connections[connection_id]\n",
        "        # Close the connection on the server\n",
        "        server.close_connection(connection_id)\n",
        "        # Remove the connection from the load balancer\n",
        "        del(self.connections[connection_id])\n",
        "\n",
        "    def avg_load(self):\n",
        "        \"\"\"Calculates the average load of all servers\"\"\"\n",
        "        # Sum the load of each server and divide by the amount of servers\n",
        "        load_sum = 0\n",
        "        for server in self.servers:\n",
        "            load_sum += server.load() \n",
        "        load_avg = load_sum/len(self.servers)\n",
        "        return load_avg\n",
        "    \n",
        "    def median_load(self):\n",
        "        \"\"\"Calculates the median load of all servers\"\"\"\n",
        "        # create list of server loads\n",
        "        load_list = [server.load() for server in self.servers]\n",
        "        # find median of the server loads list\n",
        "        load_med = median(load_list)\n",
        "        return load_med\n",
        "\n",
        "    def __str__(self):\n",
        "        \"\"\"Returns a string with the load for each server.\"\"\"\n",
        "        loads = [str(server) for server in self.servers]\n",
        "        load_avg = self.avg_load()\n",
        "        load_med = self.median_load()\n",
        "        return \"Average load of the servers is {:.2f}%\\nMedian load of servers: {:.2f}%\\nLoads of each server: [{}]\".format(load_avg, load_med, (\",\".join(loads)))"
      ],
      "metadata": {
        "id": "QcRicV5AXOG-"
      },
      "execution_count": 16,
      "outputs": []
    },
    {
      "cell_type": "code",
      "source": [
        "loadbalancer= LoadBalancer()"
      ],
      "metadata": {
        "id": "K3w4f1OYnmTT"
      },
      "execution_count": 17,
      "outputs": []
    },
    {
      "cell_type": "code",
      "source": [
        "for connection in range(20):\n",
        "    loadbalancer.add_connection(connection)\n",
        "print('{} servers used with {:.2f}% average load'.format(len(loadbalancer.servers),loadbalancer.avg_load()))"
      ],
      "metadata": {
        "colab": {
          "base_uri": "https://localhost:8080/"
        },
        "id": "TqqA7CAqnpLa",
        "outputId": "a74c9fbe-62df-4dfb-9781-d2430637a5ec"
      },
      "execution_count": 18,
      "outputs": [
        {
          "output_type": "stream",
          "name": "stdout",
          "text": [
            "3 servers used with 31.15% average load\n"
          ]
        }
      ]
    },
    {
      "cell_type": "code",
      "source": [
        "print(loadbalancer)"
      ],
      "metadata": {
        "colab": {
          "base_uri": "https://localhost:8080/"
        },
        "id": "Ggv0uDAKnv9M",
        "outputId": "2bf3f0a5-10ed-4ff3-c5b5-81e4a190a6e7"
      },
      "execution_count": 19,
      "outputs": [
        {
          "output_type": "stream",
          "name": "stdout",
          "text": [
            "Average load of the servers is 31.15%\n",
            "Median load of servers: 40.82%\n",
            "Loads of each server: [40.82%,46.14%,6.50%]\n"
          ]
        }
      ]
    },
    {
      "cell_type": "markdown",
      "source": [
        "\n",
        "\n",
        "---\n",
        "\n",
        "And finally we found a way to use as few servers as possible and keep their loads less than 50%. Such a way we balanced load distribution among servers.\n",
        "\n",
        "---\n",
        "\n"
      ],
      "metadata": {
        "id": "bA3roUhTNm6O"
      }
    }
  ]
}